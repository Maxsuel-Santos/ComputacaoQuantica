{
 "cells": [
  {
   "cell_type": "code",
   "execution_count": null,
   "id": "323c0000",
   "metadata": {},
   "outputs": [],
   "source": [
    "import qiskit #ferramentas para construir circuitos quânticos, simular e executar em hardware real.\n",
    "from qiskit_ibm_runtime import QiskitRuntimeService #acessar os recursos de computação quântica oferecidos pela IBM na nuvem.\n",
    "\n",
    "service = QiskitRuntimeService(channel=\"ibm_quantum\", token='818a3193f676266ae1387c88051fe918473506cc4fa8d65ec58504f98222ff930dd2ff386135bed2bbb0930a320fbbd4730aee3c5052d99c5ac7b984cd3d9383')"
   ]
  },
  {
   "cell_type": "code",
   "execution_count": 14,
   "id": "35472e2f",
   "metadata": {},
   "outputs": [],
   "source": [
    "QiskitRuntimeService.save_account(channel=\"ibm_quantum\"\n",
    "                                  ,token='818a3193f676266ae1387c88051fe918473506cc4fa8d65ec58504f98222ff930dd2ff386135bed2bbb0930a320fbbd4730aee3c5052d99c5ac7b984cd3d9383')"
   ]
  },
  {
   "cell_type": "code",
   "execution_count": 15,
   "id": "a5e2ec6a",
   "metadata": {},
   "outputs": [
    {
     "data": {
      "text/plain": [
       "['delay',\n",
       " 'if_else',\n",
       " 'ecr',\n",
       " 'id',\n",
       " 'x',\n",
       " 'measure',\n",
       " 'sx',\n",
       " 'rz',\n",
       " 'for_loop',\n",
       " 'switch_case',\n",
       " 'reset']"
      ]
     },
     "execution_count": 15,
     "metadata": {},
     "output_type": "execute_result"
    }
   ],
   "source": [
    "backend = service.backend(name = \"ibm_sherbrooke\")\n",
    "backend.operation_names"
   ]
  }
 ],
 "metadata": {
  "kernelspec": {
   "display_name": "Python 3 (ipykernel)",
   "language": "python",
   "name": "python3"
  },
  "language_info": {
   "codemirror_mode": {
    "name": "ipython",
    "version": 3
   },
   "file_extension": ".py",
   "mimetype": "text/x-python",
   "name": "python",
   "nbconvert_exporter": "python",
   "pygments_lexer": "ipython3",
   "version": "3.12.7"
  }
 },
 "nbformat": 4,
 "nbformat_minor": 5
}
